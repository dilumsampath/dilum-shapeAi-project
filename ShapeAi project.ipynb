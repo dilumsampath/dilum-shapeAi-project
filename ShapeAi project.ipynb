{
  "nbformat": 4,
  "nbformat_minor": 0,
  "metadata": {
    "colab": {
      "name": "Untitled0.ipynb",
      "provenance": [],
      "collapsed_sections": []
    },
    "kernelspec": {
      "name": "python3",
      "display_name": "Python 3"
    },
    "language_info": {
      "name": "python"
    }
  },
  "cells": [
    {
      "cell_type": "code",
      "metadata": {
        "colab": {
          "base_uri": "https://localhost:8080/"
        },
        "id": "hwjbVmBvQ2si",
        "outputId": "042cd178-5957-4b92-bfb5-0065e2439a9f"
      },
      "source": [
        "import requests\n",
        "\n",
        "from datetime import datetime\n",
        "import sys\n",
        "\n",
        "api_key = '87cd9abf9f81bf3c96fa6248a64bd1b3'  \n",
        "location = input(\"Enter the city name: \")\n",
        "\n",
        "complete_api_link =\"https://api.openweathermap.org/data/2.5/weather?q=\"+location+\"&appid=\"+api_key  \n",
        "api_link = requests.get(complete_api_link)\n",
        "api_data = api_link.json()\n",
        "\n",
        "\n",
        "temp_city = ((api_data['main']['temp']) - 273.15)\n",
        "weather_desc = api_data['weather'][0]['description']\n",
        "hmdt = api_data['main']['humidity']\n",
        "wind_spd = api_data['wind']['speed']\n",
        "date_time = datetime.now().strftime(\"%d %b %Y | %I:%M:%S %p\")\n",
        "\n",
        "\n",
        "\n",
        "x = open(\"note.txt\", 'a')\n",
        "\n",
        "print (\"-------------------------------------------------------------\",file=x )\n",
        "print  (\"Weather Stats for - {}  || {}\".format(location.upper(), date_time),file=x )\n",
        "print (\"-------------------------------------------------------------\",file=x )\n",
        "print (\"Current temperature is: {:.2f} deg C\".format(temp_city),file=x)\n",
        "print (\"Current weather desc  :\",weather_desc,file=x)\n",
        "print  (\"Current Humidity      :\",hmdt, '%',file=x)\n",
        "print (\"Current wind speed    :\",wind_spd ,'kmph',file=x) \n",
        "\n",
        "x.close()\n",
        "\n",
        "\n"
      ],
      "execution_count": 3,
      "outputs": [
        {
          "output_type": "stream",
          "text": [
            "Enter the city name: jaffna\n"
          ],
          "name": "stdout"
        }
      ]
    }
  ]
}